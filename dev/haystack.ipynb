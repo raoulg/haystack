{
 "cells": [
  {
   "cell_type": "code",
   "execution_count": 1,
   "metadata": {},
   "outputs": [],
   "source": [
    "from haystack.utils import build_pipeline, add_example_data, print_answers\n",
    "from haystack.document_stores import FAISSDocumentStore\n",
    "from haystack import Pipeline\n",
    "from haystack.nodes import TextConverter, PreProcessor, FileTypeClassifier, PDFToTextConverter, MarkdownConverter, DocxToTextConverter\n",
    "from haystack.nodes import EmbeddingRetriever, PromptNode\n",
    "from pathlib import Path\n",
    "import os\n"
   ]
  },
  {
   "cell_type": "code",
   "execution_count": 125,
   "metadata": {},
   "outputs": [
    {
     "data": {
      "text/plain": [
       "Settings(by='word', length=500, language='en', add_page=True, retrievertag='text-embedding-ada-002', top_k=5, docstore=PosixPath('docstore'), embedding_dim=1536, max_seq_length=1536)"
      ]
     },
     "execution_count": 125,
     "metadata": {},
     "output_type": "execute_result"
    }
   ],
   "source": [
    "from pydantic import BaseModel\n",
    "from typing import Optional\n",
    "\n",
    "provider = \"openai\"\n",
    "API_KEY = os.environ.get(\"OPENAI_KEY\")\n",
    "\n",
    "class Settings(BaseModel):\n",
    "    by: str = \"word\"\n",
    "    length: int = 250\n",
    "    language: str = \"en\"\n",
    "    add_page: bool = True\n",
    "    retrievertag: str\n",
    "    top_k: int = 5\n",
    "    docstore: Path\n",
    "    embedding_dim: int = 768\n",
    "    max_seq_length: int = 512\n",
    "\n",
    "huggingface_model = \"sentence-transformers/multi-qa-mpnet-base-dot-v1\"\n",
    "ada_model = \"text-embedding-ada-002\"\n",
    "settings = Settings(docstore=Path(\"docstore\"), retrievertag=ada_model, embedding_dim=1536, max_seq_length=1536)\n",
    "settings"
   ]
  },
  {
   "cell_type": "code",
   "execution_count": 168,
   "metadata": {},
   "outputs": [],
   "source": [
    "from haystack.pipelines import Pipeline\n",
    "from haystack.nodes import TextConverter, FileTypeClassifier, PDFToTextConverter, MarkdownConverter, DocxToTextConverter, PreProcessor\n",
    "from loguru import logger\n",
    "\n",
    "class DocumentstoreBuilder:\n",
    "    def __init__(self, settings: Settings):\n",
    "        self.settings = settings\n",
    "\n",
    "        file_type_classifier = FileTypeClassifier()\n",
    "        text_converter = TextConverter()\n",
    "        pdf_converter = PDFToTextConverter()\n",
    "        md_converter = MarkdownConverter()\n",
    "        docx_converter = DocxToTextConverter()\n",
    "        preprocessor = PreProcessor(\n",
    "            split_by=settings.by,\n",
    "            split_length=settings.length,\n",
    "            split_respect_sentence_boundary=True,\n",
    "            language=settings.language,\n",
    "            add_page_number=settings.add_page,\n",
    "            )\n",
    "\n",
    "        p = Pipeline()\n",
    "        p.add_node(component=file_type_classifier, name=\"FileTypeClassifier\", inputs=[\"File\"])\n",
    "        p.add_node(component=text_converter, name=\"TextConverter\", inputs=[\"FileTypeClassifier.output_1\"])\n",
    "        p.add_node(component=pdf_converter, name=\"PdfConverter\", inputs=[\"FileTypeClassifier.output_2\"])\n",
    "        p.add_node(component=md_converter, name=\"MarkdownConverter\", inputs=[\"FileTypeClassifier.output_3\"])\n",
    "        p.add_node(component=docx_converter, name=\"DocxConverter\", inputs=[\"FileTypeClassifier.output_4\"])\n",
    "\n",
    "        p.add_node(\n",
    "            component=preprocessor,\n",
    "            name=\"Preprocessor\",\n",
    "            inputs=[\"TextConverter\", \"PdfConverter\", \"MarkdownConverter\", \"DocxConverter\"],\n",
    "        )\n",
    "        self.pipeline = p\n",
    "        self.document_store = None\n",
    "        self.retriever = None\n",
    "\n",
    "    def run_preprocessor(self, datadir: Path):\n",
    "        files = [*data_dir.glob(\"*\")]\n",
    "        logger.info(f\"found {len(files)} files in {data_dir}.\")\n",
    "        # files = files[:2]\n",
    "        # logger.info(f\"reducing size to {len(files)}...\")\n",
    "        metadata = [{\"filename\" : f.name} for f in files]\n",
    "        result = self.pipeline.run(file_paths=files, meta=metadata)\n",
    "        logger.info(f\"retrieved {len(result['documents'])} document snippets.\")\n",
    "        return result\n",
    "\n",
    "    def add_files(self, datadir: Path, tag: str):\n",
    "        result = self.run_preprocessor(datadir)\n",
    "\n",
    "        if not self.document_store:\n",
    "            self.get_docstore(tag)\n",
    "        self.document_store.write_documents(documents=result[\"documents\"])\n",
    "\n",
    "        if not self.retriever:\n",
    "            self.get_retriever(modeltag=self.settings.retrievertag, top_k=self.settings.top_k)\n",
    "        logger.info(\"updating embeddings...\")\n",
    "        self.document_store.update_embeddings(retriever=self.retriever, update_existing_embeddings=False, batch_size=64)\n",
    "        logger.info(\"saving docstore...\")\n",
    "        _, index_path, config_path = self._get_paths(tag)\n",
    "        self.document_store.save(index_path=index_path, config_path=config_path)\n",
    "\n",
    "    def _get_paths(self, tag: str):\n",
    "        docstore = self.settings.docstore\n",
    "        sql_url = f\"sqlite:///{docstore.name}/{tag}.db\"\n",
    "        index_path = docstore / f\"{tag}.faiss\"\n",
    "        config_path = docstore / f\"{tag}.json\"\n",
    "        return sql_url, index_path, config_path\n",
    "\n",
    "\n",
    "    def get_docstore(self, tag: str):\n",
    "        docstore = self.settings.docstore\n",
    "        if not docstore.exists():\n",
    "            logger.info(f\"creating docstorefolder at {docstore}\")\n",
    "            docstore.mkdir()\n",
    "\n",
    "        sql_url, index_path, config_path = self._get_paths(tag)\n",
    "\n",
    "        if not index_path.exists():\n",
    "            logger.info(f\"creating FAISS docstore {sql_url}\")\n",
    "            self.document_store = FAISSDocumentStore(\n",
    "                sql_url=sql_url,\n",
    "                faiss_index_factory_str=\"Flat\",\n",
    "                embedding_dim=self.settings.embedding_dim\n",
    "                )\n",
    "        else:\n",
    "            logger.info(f\"loading FAISS docstore with {index_path}\")\n",
    "            self.document_store = FAISSDocumentStore.load(\n",
    "                index_path=index_path,\n",
    "                config_path=config_path\n",
    "                )\n",
    "\n",
    "        logger.info(f\"docstore has {self.document_store.get_document_count()} docs.\")\n",
    "\n",
    "    def get_retriever(self, modeltag: str, top_k: int):\n",
    "        API_KEY = os.environ.get(\"OPENAI_KEY\", None)\n",
    "\n",
    "        self.retriever = EmbeddingRetriever(\n",
    "            document_store=self.document_store,\n",
    "            embedding_model=modeltag,\n",
    "            batch_size=8,\n",
    "            api_key=API_KEY,\n",
    "            top_k=top_k,\n",
    "            max_seq_len=self.settings.max_seq_length,\n",
    "            )\n"
   ]
  },
  {
   "cell_type": "code",
   "execution_count": 169,
   "metadata": {},
   "outputs": [],
   "source": [
    "builder = DocumentstoreBuilder(settings)"
   ]
  },
  {
   "cell_type": "code",
   "execution_count": 170,
   "metadata": {},
   "outputs": [],
   "source": [
    "os.environ[\"TOKENIZERS_PARALLELISM\"] = \"false\""
   ]
  },
  {
   "cell_type": "code",
   "execution_count": 171,
   "metadata": {},
   "outputs": [
    {
     "name": "stderr",
     "output_type": "stream",
     "text": [
      "\u001b[32m2023-12-08 11:19:26.776\u001b[0m | \u001b[1mINFO    \u001b[0m | \u001b[36m__main__\u001b[0m:\u001b[36madd_files\u001b[0m:\u001b[36m40\u001b[0m - \u001b[1mfound 227 files in /Users/rgrouls/Downloads/research/research.\u001b[0m\n",
      "Converting files: 100%|██████████| 227/227 [21:28<00:00,  5.68s/it]\n",
      "Preprocessing:   0%|          | 0/227 [00:00<?, ?docs/s]We found one or more sentences whose word count is higher than the split length.\n",
      "Preprocessing:  32%|███▏      | 72/227 [00:02<00:04, 34.49docs/s]Document 54e55cc6914848d84856a060838cf15f is 62437 characters long after preprocessing, where the maximum length should be 10000. Something might be wrong with the splitting, check the document affected to prevent issues at query time. This document will be now hard-split at 10000 chars recursively.\n",
      "Document f8a5f1a8d4ae69bf1020ff40599616cf is 52437 characters long after preprocessing, where the maximum length should be 10000. Something might be wrong with the splitting, check the document affected to prevent issues at query time. This document will be now hard-split at 10000 chars recursively.\n",
      "Document 422f45c0852ee5de886b22cddd20e5db is 42437 characters long after preprocessing, where the maximum length should be 10000. Something might be wrong with the splitting, check the document affected to prevent issues at query time. This document will be now hard-split at 10000 chars recursively.\n",
      "Document 8f6e8a3df5e319b34c1ec9986dc2a9e5 is 32437 characters long after preprocessing, where the maximum length should be 10000. Something might be wrong with the splitting, check the document affected to prevent issues at query time. This document will be now hard-split at 10000 chars recursively.\n",
      "Document 2b7469fe593c8cb6752c452bc567982 is 22437 characters long after preprocessing, where the maximum length should be 10000. Something might be wrong with the splitting, check the document affected to prevent issues at query time. This document will be now hard-split at 10000 chars recursively.\n",
      "Document 2d9923eeb81172842e4d85a7cf6ef9b2 is 12437 characters long after preprocessing, where the maximum length should be 10000. Something might be wrong with the splitting, check the document affected to prevent issues at query time. This document will be now hard-split at 10000 chars recursively.\n",
      "Preprocessing:  60%|██████    | 137/227 [00:03<00:01, 47.49docs/s]Document 88219e45b252e2bd79f3705c2d2fcd03 is 23959 characters long after preprocessing, where the maximum length should be 10000. Something might be wrong with the splitting, check the document affected to prevent issues at query time. This document will be now hard-split at 10000 chars recursively.\n",
      "Document b168dc1498b425278ee6e5622d3427c is 13959 characters long after preprocessing, where the maximum length should be 10000. Something might be wrong with the splitting, check the document affected to prevent issues at query time. This document will be now hard-split at 10000 chars recursively.\n",
      "Preprocessing: 100%|██████████| 227/227 [00:05<00:00, 44.19docs/s]\n",
      "\u001b[32m2023-12-08 11:41:01.051\u001b[0m | \u001b[1mINFO    \u001b[0m | \u001b[36m__main__\u001b[0m:\u001b[36madd_files\u001b[0m:\u001b[36m45\u001b[0m - \u001b[1mretrieved 6360 document snippets.\u001b[0m\n",
      "\u001b[32m2023-12-08 11:41:01.052\u001b[0m | \u001b[1mINFO    \u001b[0m | \u001b[36m__main__\u001b[0m:\u001b[36mget_docstore\u001b[0m:\u001b[36m76\u001b[0m - \u001b[1mcreating FAISS docstore sqlite:///docstore/scepa.db\u001b[0m\n",
      "\u001b[32m2023-12-08 11:41:01.062\u001b[0m | \u001b[1mINFO    \u001b[0m | \u001b[36m__main__\u001b[0m:\u001b[36mget_docstore\u001b[0m:\u001b[36m89\u001b[0m - \u001b[1mdocstore has 0 docs.\u001b[0m\n",
      "Writing Documents: 10000it [00:06, 1651.79it/s]            \n",
      "\u001b[32m2023-12-08 11:41:07.119\u001b[0m | \u001b[1mINFO    \u001b[0m | \u001b[36m__main__\u001b[0m:\u001b[36madd_files\u001b[0m:\u001b[36m53\u001b[0m - \u001b[1mupdating embeddings...\u001b[0m\n",
      "Updating Embedding:   0%|          | 0/6196 [00:00<?, ? docs/s]The prompt has been truncated from 1557 tokens to 1536 tokens to fit within the max token limit. Reduce the length of the prompt to prevent it from being cut off.\n",
      "The prompt has been truncated from 1552 tokens to 1536 tokens to fit within the max token limit. Reduce the length of the prompt to prevent it from being cut off.\n",
      "The prompt has been truncated from 2243 tokens to 1536 tokens to fit within the max token limit. Reduce the length of the prompt to prevent it from being cut off.\n",
      "The prompt has been truncated from 1732 tokens to 1536 tokens to fit within the max token limit. Reduce the length of the prompt to prevent it from being cut off.\n",
      "The prompt has been truncated from 3252 tokens to 1536 tokens to fit within the max token limit. Reduce the length of the prompt to prevent it from being cut off.\n",
      "The prompt has been truncated from 3359 tokens to 1536 tokens to fit within the max token limit. Reduce the length of the prompt to prevent it from being cut off.\n",
      "The prompt has been truncated from 1555 tokens to 1536 tokens to fit within the max token limit. Reduce the length of the prompt to prevent it from being cut off.\n",
      "The prompt has been truncated from 1538 tokens to 1536 tokens to fit within the max token limit. Reduce the length of the prompt to prevent it from being cut off.\n",
      "The prompt has been truncated from 2138 tokens to 1536 tokens to fit within the max token limit. Reduce the length of the prompt to prevent it from being cut off.\n",
      "The prompt has been truncated from 1646 tokens to 1536 tokens to fit within the max token limit. Reduce the length of the prompt to prevent it from being cut off.\n",
      "The prompt has been truncated from 3255 tokens to 1536 tokens to fit within the max token limit. Reduce the length of the prompt to prevent it from being cut off.\n",
      "The prompt has been truncated from 4597 tokens to 1536 tokens to fit within the max token limit. Reduce the length of the prompt to prevent it from being cut off.\n",
      "The prompt has been truncated from 2817 tokens to 1536 tokens to fit within the max token limit. Reduce the length of the prompt to prevent it from being cut off.\n",
      "The prompt has been truncated from 1812 tokens to 1536 tokens to fit within the max token limit. Reduce the length of the prompt to prevent it from being cut off.\n",
      "The prompt has been truncated from 1714 tokens to 1536 tokens to fit within the max token limit. Reduce the length of the prompt to prevent it from being cut off.\n",
      "The prompt has been truncated from 3304 tokens to 1536 tokens to fit within the max token limit. Reduce the length of the prompt to prevent it from being cut off.\n",
      "The prompt has been truncated from 1689 tokens to 1536 tokens to fit within the max token limit. Reduce the length of the prompt to prevent it from being cut off.\n",
      "The prompt has been truncated from 1961 tokens to 1536 tokens to fit within the max token limit. Reduce the length of the prompt to prevent it from being cut off.\n",
      "The prompt has been truncated from 1552 tokens to 1536 tokens to fit within the max token limit. Reduce the length of the prompt to prevent it from being cut off.\n",
      "The prompt has been truncated from 2075 tokens to 1536 tokens to fit within the max token limit. Reduce the length of the prompt to prevent it from being cut off.\n",
      "The prompt has been truncated from 1828 tokens to 1536 tokens to fit within the max token limit. Reduce the length of the prompt to prevent it from being cut off.\n",
      "The prompt has been truncated from 1749 tokens to 1536 tokens to fit within the max token limit. Reduce the length of the prompt to prevent it from being cut off.\n",
      "The prompt has been truncated from 2227 tokens to 1536 tokens to fit within the max token limit. Reduce the length of the prompt to prevent it from being cut off.\n",
      "The prompt has been truncated from 1615 tokens to 1536 tokens to fit within the max token limit. Reduce the length of the prompt to prevent it from being cut off.\n",
      "The prompt has been truncated from 1674 tokens to 1536 tokens to fit within the max token limit. Reduce the length of the prompt to prevent it from being cut off.\n",
      "The prompt has been truncated from 2126 tokens to 1536 tokens to fit within the max token limit. Reduce the length of the prompt to prevent it from being cut off.\n",
      "The prompt has been truncated from 1728 tokens to 1536 tokens to fit within the max token limit. Reduce the length of the prompt to prevent it from being cut off.\n",
      "The prompt has been truncated from 1636 tokens to 1536 tokens to fit within the max token limit. Reduce the length of the prompt to prevent it from being cut off.\n",
      "The prompt has been truncated from 3537 tokens to 1536 tokens to fit within the max token limit. Reduce the length of the prompt to prevent it from being cut off.\n",
      "The prompt has been truncated from 1717 tokens to 1536 tokens to fit within the max token limit. Reduce the length of the prompt to prevent it from being cut off.\n",
      "The prompt has been truncated from 3233 tokens to 1536 tokens to fit within the max token limit. Reduce the length of the prompt to prevent it from being cut off.\n",
      "The prompt has been truncated from 1575 tokens to 1536 tokens to fit within the max token limit. Reduce the length of the prompt to prevent it from being cut off.\n",
      "The prompt has been truncated from 2065 tokens to 1536 tokens to fit within the max token limit. Reduce the length of the prompt to prevent it from being cut off.\n",
      "The prompt has been truncated from 1744 tokens to 1536 tokens to fit within the max token limit. Reduce the length of the prompt to prevent it from being cut off.\n",
      "The prompt has been truncated from 1848 tokens to 1536 tokens to fit within the max token limit. Reduce the length of the prompt to prevent it from being cut off.\n",
      "The prompt has been truncated from 1643 tokens to 1536 tokens to fit within the max token limit. Reduce the length of the prompt to prevent it from being cut off.\n",
      "The prompt has been truncated from 2076 tokens to 1536 tokens to fit within the max token limit. Reduce the length of the prompt to prevent it from being cut off.\n",
      "The prompt has been truncated from 1759 tokens to 1536 tokens to fit within the max token limit. Reduce the length of the prompt to prevent it from being cut off.\n",
      "The prompt has been truncated from 2042 tokens to 1536 tokens to fit within the max token limit. Reduce the length of the prompt to prevent it from being cut off.\n",
      "The prompt has been truncated from 1592 tokens to 1536 tokens to fit within the max token limit. Reduce the length of the prompt to prevent it from being cut off.\n",
      "The prompt has been truncated from 3523 tokens to 1536 tokens to fit within the max token limit. Reduce the length of the prompt to prevent it from being cut off.\n",
      "The prompt has been truncated from 1538 tokens to 1536 tokens to fit within the max token limit. Reduce the length of the prompt to prevent it from being cut off.\n",
      "The prompt has been truncated from 1616 tokens to 1536 tokens to fit within the max token limit. Reduce the length of the prompt to prevent it from being cut off.\n",
      "The prompt has been truncated from 1754 tokens to 1536 tokens to fit within the max token limit. Reduce the length of the prompt to prevent it from being cut off.\n",
      "The prompt has been truncated from 1573 tokens to 1536 tokens to fit within the max token limit. Reduce the length of the prompt to prevent it from being cut off.\n",
      "The prompt has been truncated from 1744 tokens to 1536 tokens to fit within the max token limit. Reduce the length of the prompt to prevent it from being cut off.\n",
      "The prompt has been truncated from 1539 tokens to 1536 tokens to fit within the max token limit. Reduce the length of the prompt to prevent it from being cut off.\n",
      "The prompt has been truncated from 1581 tokens to 1536 tokens to fit within the max token limit. Reduce the length of the prompt to prevent it from being cut off.\n",
      "The prompt has been truncated from 1585 tokens to 1536 tokens to fit within the max token limit. Reduce the length of the prompt to prevent it from being cut off.\n",
      "The prompt has been truncated from 2014 tokens to 1536 tokens to fit within the max token limit. Reduce the length of the prompt to prevent it from being cut off.\n",
      "The prompt has been truncated from 1558 tokens to 1536 tokens to fit within the max token limit. Reduce the length of the prompt to prevent it from being cut off.\n",
      "The prompt has been truncated from 1605 tokens to 1536 tokens to fit within the max token limit. Reduce the length of the prompt to prevent it from being cut off.\n",
      "The prompt has been truncated from 2085 tokens to 1536 tokens to fit within the max token limit. Reduce the length of the prompt to prevent it from being cut off.\n",
      "The prompt has been truncated from 2035 tokens to 1536 tokens to fit within the max token limit. Reduce the length of the prompt to prevent it from being cut off.\n",
      "The prompt has been truncated from 2209 tokens to 1536 tokens to fit within the max token limit. Reduce the length of the prompt to prevent it from being cut off.\n",
      "The prompt has been truncated from 2290 tokens to 1536 tokens to fit within the max token limit. Reduce the length of the prompt to prevent it from being cut off.\n",
      "The prompt has been truncated from 1558 tokens to 1536 tokens to fit within the max token limit. Reduce the length of the prompt to prevent it from being cut off.\n",
      "The prompt has been truncated from 3268 tokens to 1536 tokens to fit within the max token limit. Reduce the length of the prompt to prevent it from being cut off.\n",
      "The prompt has been truncated from 2101 tokens to 1536 tokens to fit within the max token limit. Reduce the length of the prompt to prevent it from being cut off.\n",
      "The prompt has been truncated from 2148 tokens to 1536 tokens to fit within the max token limit. Reduce the length of the prompt to prevent it from being cut off.\n",
      "The prompt has been truncated from 3056 tokens to 1536 tokens to fit within the max token limit. Reduce the length of the prompt to prevent it from being cut off.\n",
      "The prompt has been truncated from 2226 tokens to 1536 tokens to fit within the max token limit. Reduce the length of the prompt to prevent it from being cut off.\n",
      "The prompt has been truncated from 1825 tokens to 1536 tokens to fit within the max token limit. Reduce the length of the prompt to prevent it from being cut off.\n",
      "Calculating embeddings: 100%|██████████| 775/775 [12:17<00:00,  1.05it/s]\n",
      "Documents Processed: 10000 docs [12:18, 13.54 docs/s]           \n",
      "\u001b[32m2023-12-08 11:53:25.597\u001b[0m | \u001b[1mINFO    \u001b[0m | \u001b[36m__main__\u001b[0m:\u001b[36madd_files\u001b[0m:\u001b[36m55\u001b[0m - \u001b[1msaving docstore...\u001b[0m\n"
     ]
    }
   ],
   "source": [
    "# data_dir = Path.home() / \"code/arxiv/data/pdfs\"\n",
    "data_dir = Path.home() / \"Downloads/research/research\"\n",
    "\n",
    "builder.add_files(data_dir, \"scepa\")"
   ]
  },
  {
   "cell_type": "code",
   "execution_count": null,
   "metadata": {},
   "outputs": [],
   "source": [
    "builder.retriever.document_store = builder.document_store"
   ]
  },
  {
   "cell_type": "code",
   "execution_count": 172,
   "metadata": {},
   "outputs": [
    {
     "data": {
      "text/plain": [
       "6196"
      ]
     },
     "execution_count": 172,
     "metadata": {},
     "output_type": "execute_result"
    }
   ],
   "source": [
    "len(builder.document_store.get_all_documents())"
   ]
  },
  {
   "cell_type": "code",
   "execution_count": 173,
   "metadata": {},
   "outputs": [
    {
     "name": "stdout",
     "output_type": "stream",
     "text": [
      "text: In\n",
      "addition, the M indicator is used to determine whether\n",
      "a household is in a situation of energy vu \n",
      " meta: {'vector_id': '0', 'filename': 'Gallego S\\xa0nchez-2022-Energy solvency. A new co.pdf', '_split_id': 2, 'page': 2} \n",
      " =====================\n",
      "text: The \"current na-\n",
      "tional planning guidance\" (PPS 22) and Energy Crops Scheme required\n",
      "feedstocks to b \n",
      " meta: {'vector_id': '1', 'filename': '1-s2.0-S0301421518304853-main.pdf', '_split_id': 2, 'page': 2} \n",
      " =====================\n",
      "text: These results indicate that, while it is possible to identify\n",
      "high-performing policies for overcomin \n",
      " meta: {'vector_id': '2', 'filename': 'Miu-2018-A Simple Assessment of Housing Retrof.pdf', '_split_id': 21, 'page': 16} \n",
      " =====================\n",
      "text: 20\n",
      "\f1227\n",
      "Table 3: Standard Electricity Bills, 2009-1055\n",
      "\n",
      "1\n",
      "2\n",
      "3\n",
      "4\n",
      "5\n",
      "6\n",
      "7\n",
      "8\n",
      "9\n",
      "10 Mean\n",
      "6488\n",
      "10884\n",
      "13844\n",
      " \n",
      " meta: {'vector_id': '3', 'filename': 'cwpe1256.pdf', '_split_id': 15, 'page': 22} \n",
      " =====================\n",
      "text: A decent home was defined as one satisfying all four\n",
      "criteria, i.e. meeting the fitness standard for \n",
      " meta: {'vector_id': '4', 'filename': 'retrieve.pdf', '_split_id': 2, 'page': 3} \n",
      " =====================\n"
     ]
    }
   ],
   "source": [
    "docs = builder.document_store.get_all_documents()\n",
    "for d in docs[:5]:\n",
    "    print(f\"text: {d.content[:100]} \\n meta: {d.meta} \\n =====================\")"
   ]
  },
  {
   "cell_type": "code",
   "execution_count": 235,
   "metadata": {},
   "outputs": [],
   "source": [
    "questions = [\n",
    "        \"What are proven interventions to reduce / alleviate energy poverty?\",\n",
    "        \"Which intervention to reduce / alleviate energy poverty are effective?\",\n",
    "        \"In which contexts do interventions for energy poverty reduction work?\",\n",
    "        \"Which contextual factors are relevant for the success of interventions for reducting energy poverty?\",\n",
    "        \"For which specific target groups do interventions for energy poverty reduction work?\",\n",
    "        \"On which mechanisms are interventions for energy poverty reduction based?\",\n",
    "        \"Which indicators / (outcome) measures / outcomes can be used to measure the success of interventions for energy poverty reduction?\"\n",
    "        \"Which specific groups are vulnerable to energy poverty?\",\n",
    "        \"What are the characteristics of people at risk for energy poverty?\",\n",
    "        \"How can people at risk for energy poverty be identified / located?\",\n",
    "        \"How can target groups / hard-to-reach groups be engaged / involved in energy poverty programmes?\",\n",
    "        \"Which communication strategies can be used to involve target groups / hard-to-reach groups in energy poverty reduction?\",\n",
    "        \"What are the causes of energy poverty?\",\n",
    "        \"What are effective strategies / programmes to combat / reduce energy poverty?\",\n",
    "    ]\n"
   ]
  },
  {
   "cell_type": "code",
   "execution_count": 202,
   "metadata": {},
   "outputs": [
    {
     "name": "stderr",
     "output_type": "stream",
     "text": [
      "Calculating embeddings: 100%|██████████| 1/1 [00:00<00:00,  1.96it/s]\n"
     ]
    },
    {
     "name": "stdout",
     "output_type": "stream",
     "text": [
      "question: What are proven interventions to reduce / alleviate energy poverty?\n",
      "Chien-2022-Assessing the impact of green fisca.pdf\n",
      "1-s2.0-S0301421523002690-main.pdf\n",
      "Breukers-2021-Review of EU and national policy.pdf\n",
      "1-s2.0-S0301421523002690-main.pdf\n",
      "1-s2.0-S0360544221018053-main.pdf\n",
      "=====================================\n"
     ]
    },
    {
     "name": "stderr",
     "output_type": "stream",
     "text": [
      "Calculating embeddings: 100%|██████████| 1/1 [00:00<00:00,  2.09it/s]\n"
     ]
    },
    {
     "name": "stdout",
     "output_type": "stream",
     "text": [
      "question: Which intervention to reduce / alleviate energy poverty are effective?\n",
      "Chien-2022-Assessing the impact of green fisca.pdf\n",
      "Breukers-2021-Review of EU and national policy.pdf\n",
      "1-s2.0-S0301421517308650-main.pdf\n",
      "Carrere-2022-Effectiveness of an Energy-Counse.pdf\n",
      "1-s2.0-S0360544221018053-main.pdf\n",
      "=====================================\n"
     ]
    },
    {
     "name": "stderr",
     "output_type": "stream",
     "text": [
      "Calculating embeddings: 100%|██████████| 1/1 [00:00<00:00,  2.45it/s]\n"
     ]
    },
    {
     "name": "stdout",
     "output_type": "stream",
     "text": [
      "question: In which contexts do interventions for energy poverty reduction work?\n",
      "1-s2.0-S0301421523002690-main.pdf\n",
      "1-s2.0-S0301421523002690-main.pdf\n",
      "Chien-2022-Assessing the impact of green fisca.pdf\n",
      "1-s2.0-S0301421523002690-main.pdf\n",
      "1-s2.0-S0301421522002312-main.pdf\n",
      "=====================================\n"
     ]
    },
    {
     "name": "stderr",
     "output_type": "stream",
     "text": [
      "Calculating embeddings: 100%|██████████| 1/1 [00:00<00:00,  2.46it/s]\n"
     ]
    },
    {
     "name": "stdout",
     "output_type": "stream",
     "text": [
      "question: Which contextual factors are relevant for the success of interventions for reducting energy poverty?\n",
      "Halkos-2021-Coping with Energy Poverty_ Measur.pdf\n",
      "1-s2.0-S0301421519300734-main.pdf\n",
      "1-s2.0-S0301421519300734-main.pdf\n",
      "1-s2.0-S0301421522002312-main.pdf\n",
      "Breukers-2021-Review of EU and national policy.pdf\n",
      "=====================================\n"
     ]
    },
    {
     "name": "stderr",
     "output_type": "stream",
     "text": [
      "Calculating embeddings: 100%|██████████| 1/1 [00:00<00:00,  2.49it/s]\n"
     ]
    },
    {
     "name": "stdout",
     "output_type": "stream",
     "text": [
      "question: For which specific target groups do interventions for energy poverty reduction work?\n",
      "Energy poverty alleviation effective policies.pdf\n",
      "JET_februar_2014-koncna.pdf\n",
      "1-s2.0-S0360544221018399-main.pdf\n",
      "Chien-2022-Assessing the impact of green fisca.pdf\n",
      "Kanellou-2023-Lessons Learnt and Policy Implic.pdf\n",
      "=====================================\n"
     ]
    },
    {
     "name": "stderr",
     "output_type": "stream",
     "text": [
      "Calculating embeddings: 100%|██████████| 1/1 [00:00<00:00,  2.71it/s]\n"
     ]
    },
    {
     "name": "stdout",
     "output_type": "stream",
     "text": [
      "question: On which mechanisms are interventions for energy poverty reduction based?\n",
      "1-s2.0-S0301421523002690-main.pdf\n",
      "1-s2.0-S0301421523002690-main.pdf\n",
      "Natural Resources Forum - 2003 - Gururaja - En.pdf\n",
      "ICS_AHorta_EuropeanEnergy_WG4-Case-study.pdf\n",
      "Breukers-2021-Review of EU and national policy.pdf\n",
      "=====================================\n"
     ]
    },
    {
     "name": "stderr",
     "output_type": "stream",
     "text": [
      "Calculating embeddings: 100%|██████████| 1/1 [00:00<00:00,  2.68it/s]\n"
     ]
    },
    {
     "name": "stdout",
     "output_type": "stream",
     "text": [
      "question: Which indicators / (outcome) measures / outcomes can be used to measure the success of interventions for energy poverty reduction?Which specific groups are vulnerable to energy poverty?\n",
      "1-s2.0-S0360544221018053-main.pdf\n",
      "1-s2.0-S0140988321006290-main.pdf\n",
      "Bouzarovski-2021-Confronting Energy Poverty in.pdf\n",
      "485163.pdf\n",
      "1-s2.0-S0301421517308789-main.pdf\n",
      "=====================================\n"
     ]
    },
    {
     "name": "stderr",
     "output_type": "stream",
     "text": [
      "Calculating embeddings: 100%|██████████| 1/1 [00:00<00:00,  2.76it/s]\n"
     ]
    },
    {
     "name": "stdout",
     "output_type": "stream",
     "text": [
      "question: What are the characteristics of people at risk for energy poverty?\n",
      "2GENDERS_FinReport.pdf\n",
      "20180523_These_AudreyBerry.pdf\n",
      "2GENDERS_FinReport.pdf\n",
      "2GENDERS_FinReport.pdf\n",
      "1-s2.0-S0140988321003777-main.pdf\n",
      "=====================================\n"
     ]
    },
    {
     "name": "stderr",
     "output_type": "stream",
     "text": [
      "Calculating embeddings: 100%|██████████| 1/1 [00:00<00:00,  2.75it/s]\n"
     ]
    },
    {
     "name": "stdout",
     "output_type": "stream",
     "text": [
      "question: How can people at risk for energy poverty be identified / located?\n",
      "2GENDERS_FinReport.pdf\n",
      "1-s2.0-S0301421517302227-main.pdf\n",
      "JET_februar_2014-koncna.pdf\n",
      "978-3-319-69299-9.pdf\n",
      "1-s2.0-S0301421523001647-main.pdf\n",
      "=====================================\n"
     ]
    },
    {
     "name": "stderr",
     "output_type": "stream",
     "text": [
      "Calculating embeddings: 100%|██████████| 1/1 [00:00<00:00,  2.77it/s]\n"
     ]
    },
    {
     "name": "stdout",
     "output_type": "stream",
     "text": [
      "question: How can target groups / hard-to-reach groups be engaged / involved in energy poverty programmes?\n",
      "JET_februar_2014-koncna.pdf\n",
      "Breukers-2021-Review of EU and national policy.pdf\n",
      "Kanellou-2023-Lessons Learnt and Policy Implic.pdf\n",
      "JET_februar_2014-koncna.pdf\n",
      "Kanellou-2023-Lessons Learnt and Policy Implic.pdf\n",
      "=====================================\n"
     ]
    },
    {
     "name": "stderr",
     "output_type": "stream",
     "text": [
      "Calculating embeddings: 100%|██████████| 1/1 [00:00<00:00,  2.47it/s]\n"
     ]
    },
    {
     "name": "stdout",
     "output_type": "stream",
     "text": [
      "question: Which communication strategies can be used to involve target groups / hard-to-reach groups in energy poverty reduction?\n",
      "Kanellou-2023-Lessons Learnt and Policy Implic.pdf\n",
      "Kanellou-2023-Lessons Learnt and Policy Implic.pdf\n",
      "Kanellou-2023-Lessons Learnt and Policy Implic.pdf\n",
      "Breukers-2021-Review of EU and national policy.pdf\n",
      "Clodnitchi_2017_Energy_poverty_in_Romania_dri.pdf\n",
      "=====================================\n"
     ]
    },
    {
     "name": "stderr",
     "output_type": "stream",
     "text": [
      "Calculating embeddings: 100%|██████████| 1/1 [00:00<00:00,  2.13it/s]\n"
     ]
    },
    {
     "name": "stdout",
     "output_type": "stream",
     "text": [
      "question: What are the causes of energy poverty?\n",
      "2GENDERS_FinReport.pdf\n",
      "Neacsa-2020-Energy Poverty in European Union_.pdf\n",
      "1-s2.0-S0140988321003777-main.pdf\n",
      "MPRA_paper_111061.pdf\n",
      "Katsoulakos-2011-Combating Energy Poverty in M.pdf\n",
      "=====================================\n"
     ]
    },
    {
     "name": "stderr",
     "output_type": "stream",
     "text": [
      "Calculating embeddings: 100%|██████████| 1/1 [00:00<00:00,  1.41it/s]"
     ]
    },
    {
     "name": "stdout",
     "output_type": "stream",
     "text": [
      "question: What are effective strategies / programmes to combat / reduce energy poverty?\n",
      "Chien-2022-Assessing the impact of green fisca.pdf\n",
      "1-s2.0-S0301421517308650-main.pdf\n",
      "Neacsa-2020-Energy Poverty in European Union_.pdf\n",
      "Breukers-2021-Review of EU and national policy.pdf\n",
      "Longo-2020-Energy Poverty and Protection of Vu.pdf\n",
      "=====================================\n"
     ]
    },
    {
     "name": "stderr",
     "output_type": "stream",
     "text": [
      "\n"
     ]
    }
   ],
   "source": [
    "for q in questions:\n",
    "    context = builder.retriever.retrieve(document_store=builder.document_store, query=q, top_k=5)\n",
    "    print(f\"question: {q}\")\n",
    "    for doc in context:\n",
    "        print(doc.meta[\"filename\"])\n",
    "    print(\"=====================================\")\n"
   ]
  },
  {
   "cell_type": "code",
   "execution_count": null,
   "metadata": {},
   "outputs": [],
   "source": [
    "temp3 = \"\"\"Create a concise and informative answer (no more than 50 words) for a given question\n",
    "based solely on the given documents. You must only use information from the given documents.\n",
    "Use an unbiased and journalistic tone. Do not repeat text. Cite the documents using Document[number] notation.\n",
    "If multiple documents contain the answer, cite those documents like ‘as stated in Document[number], Document[number], etc.’.\n",
    "If the documents do not contain the answer to the question, say that ‘answering is not possible given the available information.’\n",
    "{join(documents, delimiter=new_line, pattern=new_line+'Document[$idx]: $content', str_replace={new_line: ' ', '[': '(', ']': ')'})}\n",
    "Question: {query}; Answer:\n",
    "\"\"\""
   ]
  },
  {
   "cell_type": "code",
   "execution_count": null,
   "metadata": {},
   "outputs": [],
   "source": [
    "s = \"\"\"Given the context please answer the question. Context: {join(documents)};\n",
    "Question: {query};\n",
    "Answer:\n",
    "\"\"\""
   ]
  },
  {
   "cell_type": "code",
   "execution_count": 248,
   "metadata": {},
   "outputs": [],
   "source": [
    "temp1 = \"deepset/question-answering\"\n",
    "temp2 = \"deepset/question-answering-with-references\"\n",
    "prompt_node = PromptNode(model_name_or_path = \"gpt-3.5-turbo\",\n",
    "                         api_key = API_KEY,\n",
    "                         max_length = 256,\n",
    "                         default_prompt_template = temp2)"
   ]
  },
  {
   "cell_type": "code",
   "execution_count": 249,
   "metadata": {},
   "outputs": [],
   "source": [
    "query_pipeline = Pipeline()\n",
    "query_pipeline.add_node(component=builder.retriever, name=\"Retriever\", inputs=[\"Query\"])\n",
    "query_pipeline.add_node(component=prompt_node, name=\"PromptNode\", inputs=[\"Retriever\"])\n"
   ]
  },
  {
   "cell_type": "code",
   "execution_count": 250,
   "metadata": {},
   "outputs": [
    {
     "data": {
      "text/plain": [
       "'For which specific target groups do interventions for energy poverty reduction work?'"
      ]
     },
     "execution_count": 250,
     "metadata": {},
     "output_type": "execute_result"
    }
   ],
   "source": [
    "i = 4\n",
    "questions[i]"
   ]
  },
  {
   "cell_type": "code",
   "execution_count": 251,
   "metadata": {},
   "outputs": [
    {
     "name": "stderr",
     "output_type": "stream",
     "text": [
      "Calculating embeddings: 100%|██████████| 1/1 [00:00<00:00,  3.30it/s]\n"
     ]
    }
   ],
   "source": [
    "answer = query_pipeline.run(query = questions[i])"
   ]
  },
  {
   "cell_type": "code",
   "execution_count": 244,
   "metadata": {},
   "outputs": [
    {
     "data": {
      "text/plain": [
       "62"
      ]
     },
     "execution_count": 244,
     "metadata": {},
     "output_type": "execute_result"
    }
   ],
   "source": [
    "len(answer[\"results\"][0].split())"
   ]
  },
  {
   "cell_type": "code",
   "execution_count": 252,
   "metadata": {},
   "outputs": [
    {
     "name": "stdout",
     "output_type": "stream",
     "text": [
      "Interventions for energy poverty reduction target households that have difficulties affording basic energy needs.\n",
      " Other target groups include local authorities,\n",
      " owners of buildings with fuel poverty conditions,\n",
      " various local actors,\n",
      " and individuals with basic skills to give energy advice to low-income households.\n",
      " (Document[2])\n"
     ]
    }
   ],
   "source": [
    "print(answer[\"results\"][0].replace(\".\", \".\\n\").replace(\",\", \",\\n\"))"
   ]
  },
  {
   "cell_type": "code",
   "execution_count": 246,
   "metadata": {},
   "outputs": [
    {
     "data": {
      "text/plain": [
       "[<Document: {'content': 'Households that suffer from multiple types of energy deprivation are likely\\nto be in a worse situation than households affected by only one form of deprivation.\\nPolicies for energy poverty alleviation should be specifically designed to target different subgroups\\nof the population with respect to their needs and living conditions as shown by the respective\\ncontributions. Multi-stakeholder platforms seem suitable for policy dialogue and inter-ministerial\\ncollaboration to mainstream the integration of climate and social policy in strategies, programs, and\\nbudgeting.\\nAcknowledgments\\nThe Editors would like to express their sincere thanks and gratitude to the authors, who submitted papers to\\nthis Special Issue and, especially, the referees, who spent their valuable time on providing their detailed\\nreviews. Without their help, it would be impossible to prepare this Special Issue in line with the high\\nstandards set from the beginning.\\nFinally, the Editors would like to thank the members of the Institute of Communication and Computer\\nSystems (ICCS), the Institute for European Energy and Climate Policy (IEECP) and the whole SocialWatt team\\nfor their dedication and support. In this respect, the Editors would like to acknowledge the support from the\\nEuropean Commission (EC), that is financing SocialWatt project (https://socialwatt.eu/) under the Horizon\\n2020 Research and Innovation Programme grant agreement No 845905. The content of this Special Issue is the\\nsole responsibility of its authors and editors and does not necessarily reflect the views of the EC.\\nReferences\\nCastaño-Rosa, R., G. Sherriff, J. Solís-Guzmán, and M. Marrero. 2020. The validity of the index of vulnerable homes:\\nEvidence from consumers vulnerable to energy poverty in the UK. Energy Sources, Part B: Economics, Planning,\\nand Policy 1–20. this issue. doi:10.1080/15567249.2020.1717677.\\nCosta-Campi, M. T., E. Jové-Llopis, and E. Trujillo-Baute. 2019. Energy poverty in Spain: An income approach\\nanalysis.\\nEnergy\\nSources,\\nPart\\nB:\\nEconomics,\\nPlanning,\\nand\\nPolicy\\n14\\n(7–9):327–40.\\ndoi:10.1080/\\n15567249.2019.1710624.\\nKose, T. 2019. Energy poverty and health: The Turkish case. Energy Sources, Part B: Economics, Planning, and Policy 14\\n(5):201–13. doi:10.1080/15567249.2019.1653406.\\nKousis, I., M. Laskari, V. Ntouros, M.-N. Assimakopoulos, and J. Romanowicz (2020) An analysis of the determining\\nfactors of fuel poverty among students living in the private-rented sector in Europe and its impact on their well-\\nbeing, Energy Sources, Part B: Economics, Planning, and Policy, 15(2), doi:10.1080/15567249.2020.1773579\\nLakatos, E., and A. Arsenopoulos. 2019. Investigating EU financial instruments to tackle energy poverty in households:\\nA SWOT analysis. Energy Sources, Part B: Economics, Planning, and Policy 14 (6):235–53. doi:10.1080/\\n15567249.2019.1667456.\\nPapada, L., N. Katsoulakos, I. Doulos, D. Kaliampakos, and D. Damigos. 2019. Analyzing energy poverty with fuzzy\\ncognitive maps: A step-forward towards a more holistic approach. Energy Sources, Part B: Economics, Planning, and\\nPolicy 14 (5):159–82. doi:10.1080/15567249.2019.1634162.\\nSeebauer, S., M. Friesenecker, and K. Eisfeld. 2019. Integrating climate and social housing policy to alleviate energy\\npoverty: An analysis of targets and instruments in Austria. Energy Sources, Part B: Economics, Planning, and Policy\\n14 (7–9):304–26. doi:10.1080/15567249.2019.1693665.\\nSocialWatt. 2019. Report on the status quo of energy poverty and its mitigation in the EU. ', 'content_type': 'text', 'score': 0.5021929895326703, 'meta': {'filename': 'Energy poverty alleviation effective policies.pdf', '_split_id': 3, 'page': 4, 'vector_id': '5031'}, 'id_hash_keys': ['content'], 'embedding': None, 'id': 'd4012ef14b0b3ba3b5212226b7521e1a'}>,\n",
       " <Document: {'content': '2.4\\nTarget groups of the action\\nThe key target group is households that have difficulties in affording basic energy needs. Through\\ndiagnostic visits and free energy-saving devices, they can save energy and money by better manag-\\ning their energy consumption, [10].\\nThis implies working with any other local actor that might be able to identify the targeted house-\\nholds and be relevant to propose longer-term and durable aid or solutions to the households, after\\nthe visit.\\nOther target groups are:\\n•\\nlocal authorities with access to information on how to reduce fuel poverty: they can support\\nhousing schemes and housing renovations that ensure sustainable energy consumption and\\nimprove well-being of occupants; they can support the households with technical or legal ser-\\nvices;\\n•\\nowners of the buildings in which fuel poverty conditions are concentrated: by learning how to\\nimprove the energy performance of the building they can improve the living conditions in their\\nbuildings and improve the value of their property;\\n•\\na variety of local actors (such as local housing associations, tenants’ associations, health, en-\\nergy or social actors, for whom addressing poverty challenges are at the core of their mission)\\ncan both benefit and take part in implementing the project through networking and shared\\ncompetences;\\x0cJET 73\\nProject Achieve – Reducing energy consumption in fuel-poor households\\n•\\npeople who have the right basic skills to be trained to give energy advice to low income house-\\nholds, such as volunteers, people who are long-term unemployed or students who wish to\\ngain professional experience, [10].\\n2.5\\nPartners of the action\\nACHIEVE project partners are:\\n•\\nCLER - Réseau pour la transition énergétique (Coordinator),\\n•\\nCARITAS - Energiesparservice  Caritasverband Frankfurt e.V.,\\n•\\nEAP - Energy Agency of Plovdiv,\\n•\\nFOCUS - društvo za sonaraven razvoj,\\n•\\nGERES - Groupe Energies Renouvelables, Environnement et Solidarités,\\n•\\nIDEMU - Institut de l’Ecologie en Milieu Urbain,\\n•\\nSevern Wye - Severn Wye Energy Agency.\\n2.6\\nLocal circumstances in countries, covered by the action\\nThe chapter sketches the situation in each of the countries in which ACHIEVE is attempting to make\\nan impact in order to describe the backdrop against which the activities of the project are set, [8,\\n19, 20].\\n2.6.1 France\\nIn France, it is assumed that between 4 and 5 million households are facing fuel poverty. It is either\\nbecause they spend more than 10% of their income on total energy costs, or because they impose\\nself-limitations on their energy consumption and live in a cold home. Despite a national plan and\\nfunding scheme starting in 2010 (aiming to help 300,000 low-income owner-occupants to improve\\nthe energy performances of their home by 2017), visits remain the initial step for any following\\naction, whether it is related to occupant behaviour or to the building itself. It is important to note,\\nthat if actions are not properly organised, it is difficult to implement them. ', 'content_type': 'text', 'score': 0.5021847788521889, 'meta': {'filename': 'JET_februar_2014-koncna.pdf', '_split_id': 47, 'page': 72, 'vector_id': '3447'}, 'id_hash_keys': ['content'], 'embedding': None, 'id': '95addd64996cde34be0663937b88fd51'}>,\n",
       " <Document: {'content': \"The efficiency of such schemes could be\\nstrengthened by setting quantifiable targets for the share of\\nenergy-efficiency measures to be implemented in low income\\nhouseholds.\\nAs mentioned, additional measures addressing energy and fuel\\npoverty can be targeted at supporting vulnerable consumers,\\nthrough social security provision or specific instruments [30]. Both\\nsocial and energy policy mechanisms are needed [27]. Imple-\\nmenting energy efficiency schemes in households can reduce en-\\nergy poverty, through using ETS carbon revenues for directly\\nsubsidising energy efficiency actions, including building insulation,\\nefficient housing appliances, heating and cooling systems, and the\\nuptake of renewable energy systems. National energy efficiency\\nschemes can facilitate increased rate and deepness of building\\ninsulation. Some programmes provide support to avoid inefficient\\nand expensive space heating through the replacement of old\\nboilers. The deployment of renewable energy and energy storage\\nmay allow energy poor households to produce and store energy for\\nself-consumption in a decentralized way, while counteracting high\\nenergy prices [30].\\nEnergy efficiency can be further improved through energy au-\\ndits, while trained personnel can advise low-income households on\\nhow to reduce their energy consumption. Numerous energy audit\\nprogrammes are implemented across EU countries often targeting\\nto improve energy efficiency of low-income households. The im-\\npacts of the guidance offered in energy audits are difficult to assess\\n[79]. Studied the effectiveness of energy coaches for households in\\npoverty in the Netherlands and found the average household can\\nsave up to 100 euros per year, which accounts for 5,2% of the energy\\nexpenditure of an average household in Netherlands [26], with\\nlow-income households gaining the most from energy savings. A\\npromising start could be building on both the European Union's\\nEnergy Efficiency directive (updated in 2018), which requires\\ncountries to “use energy more efficiently at all stages of the energy\\nchain, including energy generation, transmission, distribution and\\nend-use consumption; ” [80] or the Building Renovation Wave,\\nwhich aims to double annual energy renovation rates across Europe\\nover a period of 10 years [81].\\nIn some EU countries, social support measures are targeted to\\nenergy poverty, namely energy bill support, financial assistance to\\nhouseholds to pay their energy bills. The financing for these pro-\\ngrammes can be sourced from progressive taxation, as in the case of\\ne.g. France's Energy Check. These programmes are designed to\\ntarget vulnerable groups at risk of poverty, including low-income\\nhouseholds and the elderly (e.g. UK Winter Fuel Payments pro-\\ngramme). Several EU countries implement additional consumer\\n4 Public pensions, family benefits, health related benefits, unemployment bene-\\nfits, social assistance benefits, housing benefits.\\nP. Fragkos, K. Fragkiadakis, B. Sovacool et al.\\nEnergy 237 (2021) 121591\\n11\\x0cprotections via social tariff schemes so as to mitigate the impacts\\nfrom the frequent changes in energy prices. Social tariff schemes\\nare a price regulation that reduces the tariff aiming to alleviate the\\nburden of high energy costs for vulnerable consumers. In addition,\\ndisconnection protection instruments aim to prevent the discon-\\nnection of households from the electricity and/or gas networks.\\n\", 'content_type': 'text', 'score': 0.5021808937464789, 'meta': {'filename': '1-s2.0-S0360544221018399-main.pdf', '_split_id': 19, 'page': 11, 'vector_id': '5402'}, 'id_hash_keys': ['content'], 'embedding': None, 'id': 'e18b6ac94dac51e4f27a3a2b4534871a'}>,\n",
       " <Document: {'content': 'Reducing\\nenergy poverty and curbing the demand for it helps to lessen\\nthe economic and psychological costs of energy poverty.\\nThere is a pressing need for governments to speed up action\\nin order to establish favorable investment conditions for ener-\\ngy poverty. To escape the vicious circle of inadequate cost\\nrecovery, underinvestment, and lack of public support, nations\\nrisk being locked in the vicious circle of higher cost recovery,\\nless investment, and less public support. This will lead to a\\nvirtuous cycle in which energy poverty inspires investment in\\nit, resulting in lower levels of energy poverty and other co-\\nbenefits while improving the overall economy and increasing\\npublic support.\\nIn order to compensate for the loss of social welfare, fiscal\\nexpenditure should be cut to counterbalance the burden on the\\nbudget of paying for the Social Security changes. Using com-\\npensation to help one kind of industry, while inhibiting anoth-\\ner, would boost energy-intensive sectors while impeding the\\ndevelopment of skill-intensive sectors, which are key to eco-\\nnomic diversification. Additionally, the plans’ subsidies ben-\\nefit the middle- and upper-class earners. Likewise, renewable\\nenergy sources might improve energy output while also in-\\ncreasing overall energy efficiency. Through this study, it has\\nbeen shown that energy shortage has a significant detrimental\\nimpact on social wellbeing among energy consumers. In order\\nto reduce this inescapable invisible deficit, the findings\\noutlined in this report advise that government officials must\\nidentify homes who consume insufficient amounts of energy\\nto satisfy fundamental necessities. For starters, making sure\\nthat citizens have power and a means of paying for it should be\\nthe number one priority in the creation of these programs.\\nBesides, regulation should focus on on-grid and off-grid\\nenergy poverty in a distinct way. The best way to assist these\\nvulnerable families having enough energy is to implement an\\neffective energy strategy for them. To enhance household in-\\ncomes and resources, we also have to link them to utilities,\\npiped water services, and other infrastructure. In order to uti-\\nlize more sustainable energy to light and heat the home, access\\nto power is the first step. To guarantee that customers are\\nconnected to the electric grid as easily as possible,\\npolicymakers will need to use suitable measures. While power\\ninfrastructure and distribution building will continue to be\\nconstrained by technological trends, other initiatives, such as\\nrooftop solar photovoltaics, solar farms, and tiny stand-alone\\ngenerators, will help to provide convenience for distant areas.\\nRegional policies must be devised to support distributed ener-\\ngy systems in this area.\\nThe results indicate that the Indian government cannot\\nachieve its unrealistic development goals and that strong pro-\\nmotion of renewable energy technologies is required to reduce\\nenergy poverty in India. Aside from the above study, few\\nstudies have looked at the link between natural gas and energy\\npoverty. This study extends the cost approach to measure fuel\\npoverty. ', 'content_type': 'text', 'score': 0.5021806870713049, 'meta': {'filename': 'Chien-2022-Assessing the impact of green fisca.pdf', '_split_id': 15, 'page': 10, 'vector_id': '3019'}, 'id_hash_keys': ['content'], 'embedding': None, 'id': '8490633324f4c728a2a6ba9f7a1697ee'}>,\n",
       " <Document: {'content': 'The Clean Energy for All Europeans policy package [4] back in 2019 aimed at\\nleaving no one behind and highlighted the need to identify energy-inefficient residential\\nbuildings and vulnerable people, and to develop effective strategies toward renovating\\nthe former and empowering the latter. The revised EU energy efficiency directive [5]\\nframed energy poverty mitigation as an obligation for member states and further focused\\non tackling the phenomenon by raising awareness, such as via the operation of one-stop\\nshops of information for citizens and concrete guidance for local authorities. The EU Green\\nDeal [6] also mandated that the energy transition be just and socially inclusive, with the\\nSustainability 2023, 15, 8854. https://doi.org/10.3390/su15118854\\nhttps://www.mdpi.com/journal/sustainability\\x0cSustainability 2023, 15, 8854\\n2 of 16\\nRenovation Wave [7] being a cornerstone for this effort. More recently, the REPowerEU\\nstrategy for reducing the bloc’s dependence on Russian gas explicitly aims to protect\\nvulnerable consumers from the volatility of energy prices [8].\\nHowever, despite this increasing attention in the European policy world, there remain\\ncritical gaps in mitigating energy poverty in the region due to its complexity and its vastly\\ndifferent manifestations across member states.\\nThis research draws from the results and lessons learnt from the EU-funded research\\nand innovation project, POWERPOOR, and presents the policy implications resulting from\\nthe project implementation. This research initiative aims to facilitate behavioural change\\nand enable the uptake of renewable energy sources and energy efficiency measures that\\ncan significantly reduce final energy consumption. It puts citizens at the heart of the\\nsolution to the problem by providing information and training sessions, while promoting\\nthe uptake of joint energy initiatives and leveraging innovative financing schemes with\\nthe potential to play a key role in addressing the associated urgent challenges. At the\\nsame time, it seeks to provide tools and guidance to local authorities to include energy\\npoverty mitigation actions in their planning and to add the energy poverty mitigation\\ndimension to their services by establishing an energy poverty alleviation office, acting as a\\none-stop shop of information for energy-poor citizens. The policy recommendations stem\\nfrom implementing the POWERPOOR approach in tackling energy poverty in eight EU\\ncountries: Bulgaria, Croatia, Hungary, Greece, Estonia, Latvia, Portugal, and Spain.\\nWe first present the current policy efforts in mitigating energy poverty on an EU level,\\nbefore offering an overview of the regional context in the eight countries. We then outline\\nthe general approach followed to draft the policy implications as well as discuss and cluster\\nthe resulting policy recommendations and actions per country, according to the needs of\\ndifferent stakeholder groups.\\n2. EU Policy Efforts in Alleviating Energy Poverty\\nThe European Commission has designed advanced and ambitious policies to tackle\\nenergy poverty, committing to protect vulnerable households. In the 2019 “Clean Energy for\\nAll Europeans” package, energy poverty was placed among the region’s top energy policy\\npriorities. Provisions for dealing with energy poverty have since been introduced in a\\nseries of European directives. ', 'content_type': 'text', 'score': 0.5021793816053903, 'meta': {'filename': 'Kanellou-2023-Lessons Learnt and Policy Implic.pdf', '_split_id': 1, 'page': 1, 'vector_id': '5855'}, 'id_hash_keys': ['content'], 'embedding': None, 'id': 'f267b7d7fb1697b55d1a914fb40a0910'}>]"
      ]
     },
     "execution_count": 246,
     "metadata": {},
     "output_type": "execute_result"
    }
   ],
   "source": [
    "answer[\"invocation_context\"][\"documents\"]"
   ]
  },
  {
   "cell_type": "code",
   "execution_count": 247,
   "metadata": {},
   "outputs": [
    {
     "name": "stdout",
     "output_type": "stream",
     "text": [
      "{'filename': 'Energy poverty alleviation effective policies.pdf', '_split_id': 3, 'page': 4, 'vector_id': '5031'}\n",
      "{'filename': 'JET_februar_2014-koncna.pdf', '_split_id': 47, 'page': 72, 'vector_id': '3447'}\n",
      "{'filename': '1-s2.0-S0360544221018399-main.pdf', '_split_id': 19, 'page': 11, 'vector_id': '5402'}\n",
      "{'filename': 'Chien-2022-Assessing the impact of green fisca.pdf', '_split_id': 15, 'page': 10, 'vector_id': '3019'}\n",
      "{'filename': 'Kanellou-2023-Lessons Learnt and Policy Implic.pdf', '_split_id': 1, 'page': 1, 'vector_id': '5855'}\n"
     ]
    }
   ],
   "source": [
    "for doc in answer[\"invocation_context\"][\"documents\"]:\n",
    "    print(doc.meta)"
   ]
  },
  {
   "cell_type": "code",
   "execution_count": null,
   "metadata": {},
   "outputs": [],
   "source": []
  }
 ],
 "metadata": {
  "kernelspec": {
   "display_name": ".venv",
   "language": "python",
   "name": "python3"
  },
  "language_info": {
   "codemirror_mode": {
    "name": "ipython",
    "version": 3
   },
   "file_extension": ".py",
   "mimetype": "text/x-python",
   "name": "python",
   "nbconvert_exporter": "python",
   "pygments_lexer": "ipython3",
   "version": "3.10.13"
  }
 },
 "nbformat": 4,
 "nbformat_minor": 2
}
